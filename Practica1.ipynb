{
  "nbformat": 4,
  "nbformat_minor": 0,
  "metadata": {
    "colab": {
      "provenance": [],
      "authorship_tag": "ABX9TyMknqCwxZUJ0/DgGgfoxFYL",
      "include_colab_link": true
    },
    "kernelspec": {
      "name": "python3",
      "display_name": "Python 3"
    },
    "language_info": {
      "name": "python"
    }
  },
  "cells": [
    {
      "cell_type": "markdown",
      "metadata": {
        "id": "view-in-github",
        "colab_type": "text"
      },
      "source": [
        "<a href=\"https://colab.research.google.com/github/gabu-python/gabu-python/blob/main/Practica1.ipynb\" target=\"_parent\"><img src=\"https://colab.research.google.com/assets/colab-badge.svg\" alt=\"Open In Colab\"/></a>"
      ]
    },
    {
      "cell_type": "code",
      "execution_count": null,
      "metadata": {
        "id": "PWkDsP7R2ZUn"
      },
      "outputs": [],
      "source": []
    },
    {
      "cell_type": "markdown",
      "source": [
        "Escribir un programa que pregunte al usuario su edad y muestre por pantalla si es mayor de edad o no"
      ],
      "metadata": {
        "id": "9FktfPtd2d2D"
      }
    },
    {
      "cell_type": "code",
      "source": [
        "edad = int(input(\"Ingrese su edad por favor: \"))\n",
        "if edad < 18:\n",
        "  print(\"Eres menor de edad\")\n",
        "\n",
        "else:\n",
        "  print(\"Eres mayor de edad\")"
      ],
      "metadata": {
        "id": "tuC8GYJr2p3V"
      },
      "execution_count": null,
      "outputs": []
    },
    {
      "cell_type": "markdown",
      "source": [
        "Escribir un programa que pida al usuario dos numeros y devuelva su division. Si el usuario no introduce numeros debe devolver un aviso de error y si el divisor es cero tambien."
      ],
      "metadata": {
        "id": "Bkrpudkx3Lnp"
      }
    },
    {
      "cell_type": "code",
      "source": [
        "nro1 = int(input(\"Ingrese el dividendo\"))\n",
        "nro2 = int(input(\"Ingrese el divisor\"))\n",
        "\n",
        "if nro2 ==0:\n",
        "  print(\"Error, no es posible dividir por 0\")\n",
        "\n",
        "else:\n",
        "  print(nro1 / nro2)"
      ],
      "metadata": {
        "colab": {
          "base_uri": "https://localhost:8080/"
        },
        "id": "7nURSUhl3lj1",
        "outputId": "e701d2f2-f2f2-4fca-866e-7dbe5be5fe4c"
      },
      "execution_count": 2,
      "outputs": [
        {
          "output_type": "stream",
          "name": "stdout",
          "text": [
            "Ingrese el dividendo25\n",
            "Ingrese el divisor5\n",
            "5.0\n"
          ]
        }
      ]
    },
    {
      "cell_type": "markdown",
      "source": [
        "Escribir un programa que pida al usuario un numero entero y muestre por pantalla si es par o impar"
      ],
      "metadata": {
        "id": "wj7Ef6PF4XDQ"
      }
    },
    {
      "cell_type": "code",
      "source": [
        "\n",
        "nro = int(input(\"Ingrese un numero entero\"))\n",
        "\n",
        "if  nro % 2==0:\n",
        " print(\"El numero\" +str(nro)+ \"es par\")\n",
        "\n",
        "else:\n",
        " print(\"El numero\" +str(nro)+  \"es impar\")\n",
        "\n"
      ],
      "metadata": {
        "colab": {
          "base_uri": "https://localhost:8080/"
        },
        "id": "hfkD_sTt4hdl",
        "outputId": "d4c930a8-55d0-4914-fecd-1573f7019b08"
      },
      "execution_count": 10,
      "outputs": [
        {
          "output_type": "stream",
          "name": "stdout",
          "text": [
            "Ingrese un numero entero32\n",
            "El numero32es par\n"
          ]
        }
      ]
    },
    {
      "cell_type": "markdown",
      "source": [
        "solicita al usuario que ingrese un numero y muestre cual de los dos es menor. Considera el caso de que ambos sean iguales\n"
      ],
      "metadata": {
        "id": "t3KurXge6DV3"
      }
    },
    {
      "cell_type": "code",
      "source": [
        "nro1 = int(input(\"Ingrese un numero\"))\n",
        "nro2 = int(input(\"ingrese otro numero\"))\n",
        "\n",
        "if nro1 < nro2:\n",
        "  print(\"El primer numero es mayor\")\n",
        "\n",
        "elif nro2 < nro1:\n",
        "  print(\"el segundo numero es menor\")\n",
        "\n",
        "else:\n",
        "  print(\"los numeros son iguales\")"
      ],
      "metadata": {
        "colab": {
          "base_uri": "https://localhost:8080/"
        },
        "id": "Ug0aMtPxKhB6",
        "outputId": "29541342-461b-4a41-89de-bba56eb53ea0"
      },
      "execution_count": 13,
      "outputs": [
        {
          "output_type": "stream",
          "name": "stdout",
          "text": [
            "Ingrese un numero23\n",
            "ingrese otro numero52\n",
            "El primer numero es mayor\n"
          ]
        }
      ]
    }
  ]
}